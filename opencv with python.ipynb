{
 "cells": [
  {
   "cell_type": "code",
   "execution_count": 1,
   "metadata": {},
   "outputs": [],
   "source": [
    "import numpy as np\n",
    "import cv2\n",
    "pic = np.zeros((500,500,3), dtype='uint8')"
   ]
  },
  {
   "cell_type": "code",
   "execution_count": 6,
   "metadata": {},
   "outputs": [],
   "source": [
    "cv2.rectangle(pic,(0,0),(500,150),(8,120,230),3,lineType=8, shift=1)\n",
    "cv2.imshow('dark',pic)\n",
    "cv2.waitKey(0)\n",
    "cv2.destroyAllWindows()"
   ]
  },
  {
   "cell_type": "code",
   "execution_count": 7,
   "metadata": {},
   "outputs": [],
   "source": [
    "cv2.line(pic, (350,350),(500,350),(0,0,255))\n",
    "cv2.imshow('dark',pic)\n",
    "cv2.waitKey(0)\n",
    "cv2.destroyAllWindows()"
   ]
  },
  {
   "cell_type": "code",
   "execution_count": 9,
   "metadata": {},
   "outputs": [],
   "source": [
    "cv2.circle(pic,(250,250),50,(255,0,255)) #50 is the radius of the circle\n",
    "cv2.imshow('dark',pic)\n",
    "cv2.waitKey(0)\n",
    "cv2.destroyAllWindows()"
   ]
  },
  {
   "cell_type": "code",
   "execution_count": 10,
   "metadata": {},
   "outputs": [],
   "source": [
    "font = cv2.FONT_HERSHEY_DUPLEX\n",
    "cv2.putText(pic,'Vaishnavi',(100,100),font,3,(255,255,255),4,cv2.LINE_8) # 3 is the font size and 4 is the letter width\n",
    "cv2.imshow('dark',pic)\n",
    "cv2.waitKey(0)\n",
    "cv2.destroyAllWindows()"
   ]
  },
  {
   "cell_type": "code",
   "execution_count": null,
   "metadata": {},
   "outputs": [],
   "source": [
    "pic = cv2.imread('')\n",
    "cols = pic.shape[1] # find dimensions of the image rows*cols\n",
    "rows = pic.shape[0]\n",
    "M = np.float32([[1,0,150], [0,1,70]]) #transition matrix. shift 150 pixels to the right along the x axis and 70 pixels down along the y-axis\n",
    "shifted = cv2.warpAffine(pic, M, (cols,rows)) # shift image\n",
    "cv2.imshow('shifted', shifted)\n",
    "cv2.waitKey(0)\n",
    "cv2.destroyAllWindows()"
   ]
  },
  {
   "cell_type": "code",
   "execution_count": 11,
   "metadata": {},
   "outputs": [
    {
     "ename": "AttributeError",
     "evalue": "module 'cv2.cv2' has no attribute 'wrapAffine'",
     "output_type": "error",
     "traceback": [
      "\u001b[1;31m---------------------------------------------------------------------------\u001b[0m",
      "\u001b[1;31mAttributeError\u001b[0m                            Traceback (most recent call last)",
      "\u001b[1;32m<ipython-input-11-35201fbac57e>\u001b[0m in \u001b[0;36m<module>\u001b[1;34m()\u001b[0m\n\u001b[0;32m      5\u001b[0m \u001b[0mangle\u001b[0m \u001b[1;33m=\u001b[0m \u001b[1;36m90\u001b[0m\u001b[1;33m\u001b[0m\u001b[0m\n\u001b[0;32m      6\u001b[0m \u001b[0mM\u001b[0m \u001b[1;33m=\u001b[0m \u001b[0mcv2\u001b[0m\u001b[1;33m.\u001b[0m\u001b[0mgetRotationMatrix2D\u001b[0m\u001b[1;33m(\u001b[0m\u001b[0mcenter\u001b[0m\u001b[1;33m,\u001b[0m \u001b[0mangle\u001b[0m\u001b[1;33m,\u001b[0m \u001b[1;36m1\u001b[0m\u001b[1;33m)\u001b[0m \u001b[1;31m#1 is image size stays same, if 0.5 image is halved, if 2 image size is doubled\u001b[0m\u001b[1;33m\u001b[0m\u001b[0m\n\u001b[1;32m----> 7\u001b[1;33m \u001b[0mrotate\u001b[0m \u001b[1;33m=\u001b[0m \u001b[0mcv2\u001b[0m\u001b[1;33m.\u001b[0m\u001b[0mwrapAffine\u001b[0m\u001b[1;33m(\u001b[0m\u001b[0mpic\u001b[0m\u001b[1;33m,\u001b[0m\u001b[0mM\u001b[0m\u001b[1;33m,\u001b[0m\u001b[1;33m(\u001b[0m\u001b[0mcols\u001b[0m\u001b[1;33m,\u001b[0m\u001b[0mrows\u001b[0m\u001b[1;33m)\u001b[0m\u001b[1;33m)\u001b[0m\u001b[1;33m\u001b[0m\u001b[0m\n\u001b[0m\u001b[0;32m      8\u001b[0m \u001b[0mcv2\u001b[0m\u001b[1;33m.\u001b[0m\u001b[0mimshow\u001b[0m\u001b[1;33m(\u001b[0m\u001b[1;34m'rotated'\u001b[0m\u001b[1;33m,\u001b[0m \u001b[0mrotate\u001b[0m\u001b[1;33m)\u001b[0m\u001b[1;33m\u001b[0m\u001b[0m\n\u001b[0;32m      9\u001b[0m \u001b[0mcv2\u001b[0m\u001b[1;33m.\u001b[0m\u001b[0mwaitKey\u001b[0m\u001b[1;33m(\u001b[0m\u001b[1;36m0\u001b[0m\u001b[1;33m)\u001b[0m\u001b[1;33m\u001b[0m\u001b[0m\n",
      "\u001b[1;31mAttributeError\u001b[0m: module 'cv2.cv2' has no attribute 'wrapAffine'"
     ]
    }
   ],
   "source": [
    "pic = cv2.imread('C:\\\\Users\\\\Vaishnavi Kannan\\\\Desktop\\\\download.png')\n",
    "rows = pic.shape[1] # find dimensions of the image rows*cols\n",
    "cols = pic.shape[0]\n",
    "center = (cols/2, rows/2) #find the center of the image which is row/2 and col/2\n",
    "angle = 90\n",
    "M = cv2.getRotationMatrix2D(center, angle, 1) #1 is image size stays same, if 0.5 image is halved, if 2 image size is doubled\n",
    "rotate = cv2.wrapAffine(pic,M,(cols,rows))\n",
    "cv2.imshow('rotated', rotate)\n",
    "cv2.waitKey(0)\n",
    "cv2.destroyAllWindows()"
   ]
  },
  {
   "cell_type": "code",
   "execution_count": 15,
   "metadata": {},
   "outputs": [],
   "source": [
    "threshold_value=100 #if pixel value is <200, they will be set to black else white\n",
    "(T_value, binary_threshold) = cv2.threshold(pic,threshold_value,255,cv2.THRESH_BINARY) #if THRESH_BINARY_INV is given, pixels above the given threshold are black and below white\n",
    "cv2.imshow('binary',binary_threshold)\n",
    "cv2.waitKey(0)\n",
    "cv2.destroyAllWindows()"
   ]
  },
  {
   "cell_type": "code",
   "execution_count": 13,
   "metadata": {},
   "outputs": [],
   "source": [
    "#Gaussian Blur\n",
    "matrix = (7,7)\n",
    "blur = cv2.GaussianBlur(pic, matrix, 0) #sigma(3rd para) is the std. seviation along x axis\n",
    "cv2.imshow('blurred', blur)\n",
    "cv2.waitKey(0)\n",
    "cv2.destroyAllWindows()"
   ]
  },
  {
   "cell_type": "code",
   "execution_count": 17,
   "metadata": {},
   "outputs": [],
   "source": [
    "#Median Blur(to remove noise from image) - replace center pixel with median of 8 neighbors\n",
    "kernal  = 3\n",
    "median = cv2.medianBlur(pic,kernal)\n",
    "cv2.imshow('median',median)\n",
    "cv2.waitKey(0)\n",
    "cv2.destroyAllWindows()"
   ]
  },
  {
   "cell_type": "code",
   "execution_count": 18,
   "metadata": {},
   "outputs": [],
   "source": [
    "#Bilateral filtering - to preserve the edges in an image even after blurring\n",
    "\n",
    "dimpixel = 7\n",
    "color = 100 # \n",
    "space = 100 # how max far are the pixels that we are gonna include in computation\n",
    "filter = cv2.bilateralFilter(pic, dimpixel, color, space)\n",
    "cv2.imshow('filter', filter)\n",
    "cv2.waitKey(0)\n",
    "cv2.destroyAllWindows()\n"
   ]
  },
  {
   "cell_type": "code",
   "execution_count": 19,
   "metadata": {},
   "outputs": [],
   "source": [
    "# canny edge detector\n",
    "\n",
    "thresholdval1 = 50\n",
    "thresholdval2 = 100\n",
    "canny = cv2.Canny(pic, thresholdval1, thresholdval2)\n",
    "cv2.imshow('canny', canny)\n",
    "cv2.waitKey(0)\n",
    "cv2.destroyAllWindows()"
   ]
  },
  {
   "cell_type": "code",
   "execution_count": 23,
   "metadata": {},
   "outputs": [
    {
     "name": "stdout",
     "output_type": "stream",
     "text": [
      "Number of faces found 1\n",
      "Number of faces found 1\n",
      "Number of faces found 1\n",
      "Number of faces found 1\n",
      "Number of faces found 1\n",
      "Number of faces found 1\n",
      "Number of faces found 1\n",
      "Number of faces found 1\n",
      "Number of faces found 1\n",
      "Number of faces found 1\n",
      "Number of faces found 1\n",
      "Number of faces found 1\n",
      "Number of faces found 1\n",
      "Number of faces found 1\n",
      "Number of faces found 1\n",
      "Number of faces found 1\n",
      "Number of faces found 1\n",
      "Number of faces found 1\n",
      "Number of faces found 1\n",
      "Number of faces found 1\n",
      "Number of faces found 1\n",
      "Number of faces found 1\n",
      "Number of faces found 1\n",
      "Number of faces found 1\n",
      "Number of faces found 1\n",
      "Number of faces found 1\n",
      "Number of faces found 1\n",
      "Number of faces found 1\n",
      "Number of faces found 1\n",
      "Number of faces found 1\n",
      "Number of faces found 1\n",
      "Number of faces found 1\n",
      "Number of faces found 1\n",
      "Number of faces found 1\n",
      "Number of faces found 1\n",
      "Number of faces found 1\n",
      "Number of faces found 1\n",
      "Number of faces found 1\n",
      "Number of faces found 1\n",
      "Number of faces found 1\n",
      "Number of faces found 1\n",
      "Number of faces found 1\n",
      "Number of faces found 1\n",
      "Number of faces found 1\n",
      "Number of faces found 1\n",
      "Number of faces found 1\n",
      "Number of faces found 1\n",
      "Number of faces found 1\n",
      "Number of faces found 1\n",
      "Number of faces found 1\n",
      "Number of faces found 1\n",
      "Number of faces found 1\n",
      "Number of faces found 1\n",
      "Number of faces found 1\n",
      "Number of faces found 1\n",
      "Number of faces found 1\n",
      "Number of faces found 1\n",
      "Number of faces found 1\n",
      "Number of faces found 1\n",
      "Number of faces found 1\n",
      "Number of faces found 1\n",
      "Number of faces found 1\n",
      "Number of faces found 1\n",
      "Number of faces found 1\n",
      "Number of faces found 1\n",
      "Number of faces found 1\n",
      "Number of faces found 1\n",
      "Number of faces found 1\n",
      "Number of faces found 1\n",
      "Number of faces found 1\n",
      "Number of faces found 1\n",
      "Number of faces found 1\n",
      "Number of faces found 1\n",
      "Number of faces found 1\n",
      "Number of faces found 1\n",
      "Number of faces found 1\n",
      "Number of faces found 1\n",
      "Number of faces found 1\n",
      "Number of faces found 1\n",
      "Number of faces found 1\n",
      "Number of faces found 1\n",
      "Number of faces found 1\n",
      "Number of faces found 1\n",
      "Number of faces found 1\n",
      "Number of faces found 1\n",
      "Number of faces found 1\n",
      "Number of faces found 1\n",
      "Number of faces found 1\n",
      "Number of faces found 1\n",
      "Number of faces found 1\n",
      "Number of faces found 1\n",
      "Number of faces found 1\n",
      "Number of faces found 1\n",
      "Number of faces found 1\n",
      "Number of faces found 1\n",
      "Number of faces found 1\n",
      "Number of faces found 1\n",
      "Number of faces found 1\n",
      "Number of faces found 1\n",
      "Number of faces found 1\n",
      "Number of faces found 1\n",
      "Number of faces found 1\n",
      "Number of faces found 1\n",
      "Number of faces found 1\n",
      "Number of faces found 1\n",
      "Number of faces found 1\n",
      "Number of faces found 1\n",
      "Number of faces found 1\n",
      "Number of faces found 1\n",
      "Number of faces found 1\n",
      "Number of faces found 1\n",
      "Number of faces found 1\n",
      "Number of faces found 1\n",
      "Number of faces found 1\n",
      "Number of faces found 1\n",
      "Number of faces found 1\n",
      "Number of faces found 1\n",
      "Number of faces found 1\n",
      "Number of faces found 1\n",
      "Number of faces found 1\n",
      "Number of faces found 1\n",
      "Number of faces found 1\n",
      "Number of faces found 1\n",
      "Number of faces found 1\n",
      "Number of faces found 1\n",
      "Number of faces found 1\n",
      "Number of faces found 1\n",
      "Number of faces found 1\n",
      "Number of faces found 1\n",
      "Number of faces found 1\n",
      "Number of faces found 1\n",
      "Number of faces found 1\n",
      "Number of faces found 1\n",
      "Number of faces found 1\n",
      "Number of faces found 1\n",
      "Number of faces found 1\n",
      "Number of faces found 1\n",
      "Number of faces found 1\n",
      "Number of faces found 1\n",
      "Number of faces found 1\n",
      "Number of faces found 1\n",
      "Number of faces found 1\n",
      "Number of faces found 1\n",
      "Number of faces found 1\n",
      "Number of faces found 1\n",
      "Number of faces found 1\n",
      "Number of faces found 1\n",
      "Number of faces found 1\n",
      "Number of faces found 1\n",
      "Number of faces found 1\n",
      "Number of faces found 1\n",
      "Number of faces found 1\n",
      "Number of faces found 1\n",
      "Number of faces found 1\n",
      "Number of faces found 1\n",
      "Number of faces found 1\n",
      "Number of faces found 1\n",
      "Number of faces found 1\n",
      "Number of faces found 1\n",
      "Number of faces found 1\n",
      "Number of faces found 1\n",
      "Number of faces found 1\n",
      "Number of faces found 1\n",
      "Number of faces found 1\n",
      "Number of faces found 1\n",
      "Number of faces found 1\n",
      "Number of faces found 1\n",
      "Number of faces found 1\n",
      "Number of faces found 1\n",
      "Number of faces found 1\n",
      "Number of faces found 1\n",
      "Number of faces found 1\n",
      "Number of faces found 1\n",
      "Number of faces found 1\n",
      "Number of faces found 1\n",
      "Number of faces found 1\n",
      "Number of faces found 1\n",
      "Number of faces found 1\n",
      "Number of faces found 1\n",
      "Number of faces found 1\n",
      "Number of faces found 1\n",
      "Number of faces found 1\n",
      "Number of faces found 1\n",
      "Number of faces found 1\n",
      "Number of faces found 1\n",
      "Number of faces found 1\n",
      "Number of faces found 1\n",
      "Number of faces found 1\n",
      "Number of faces found 1\n",
      "Number of faces found 1\n",
      "Number of faces found 1\n",
      "Number of faces found 1\n",
      "Number of faces found 1\n",
      "Number of faces found 1\n",
      "Number of faces found 1\n",
      "Number of faces found 1\n",
      "Number of faces found 1\n",
      "Number of faces found 1\n",
      "Number of faces found 1\n",
      "Number of faces found 1\n",
      "Number of faces found 1\n",
      "Number of faces found 1\n",
      "Number of faces found 1\n",
      "Number of faces found 1\n",
      "Number of faces found 1\n",
      "Number of faces found 1\n",
      "Number of faces found 1\n",
      "Number of faces found 1\n",
      "Number of faces found 1\n",
      "Number of faces found 1\n",
      "Number of faces found 1\n",
      "Number of faces found 1\n",
      "Number of faces found 1\n",
      "Number of faces found 1\n",
      "Number of faces found 1\n",
      "Number of faces found 1\n",
      "Number of faces found 1\n",
      "Number of faces found 1\n",
      "Number of faces found 1\n",
      "Number of faces found 1\n",
      "Number of faces found 1\n",
      "Number of faces found 1\n",
      "Number of faces found 1\n",
      "Number of faces found 1\n",
      "Number of faces found 1\n",
      "Number of faces found 1\n",
      "Number of faces found 1\n",
      "Number of faces found 1\n",
      "Number of faces found 1\n",
      "Number of faces found 1\n",
      "Number of faces found 1\n",
      "Number of faces found 1\n",
      "Number of faces found 1\n",
      "Number of faces found 1\n",
      "Number of faces found 1\n",
      "Number of faces found 1\n",
      "Number of faces found 1\n",
      "Number of faces found 1\n",
      "Number of faces found 1\n",
      "Number of faces found 1\n",
      "Number of faces found 1\n",
      "Number of faces found 1\n",
      "Number of faces found 1\n",
      "Number of faces found 1\n",
      "Number of faces found 1\n",
      "Number of faces found 1\n",
      "Number of faces found 1\n",
      "Number of faces found 1\n",
      "Number of faces found 1\n",
      "Number of faces found 1\n",
      "Number of faces found 1\n",
      "Number of faces found 1\n",
      "Number of faces found 1\n",
      "Number of faces found 1\n",
      "Number of faces found 1\n",
      "Number of faces found 1\n",
      "Number of faces found 1\n",
      "Number of faces found 1\n",
      "Number of faces found 1\n",
      "Number of faces found 1\n",
      "Number of faces found 1\n",
      "Number of faces found 1\n",
      "Number of faces found 1\n",
      "Number of faces found 1\n",
      "Number of faces found 1\n",
      "Number of faces found 1\n",
      "Number of faces found 1\n",
      "Number of faces found 1\n",
      "Number of faces found 1\n",
      "Number of faces found 1\n",
      "Number of faces found 1\n",
      "Number of faces found 1\n",
      "Number of faces found 1\n",
      "Number of faces found 1\n",
      "Number of faces found 1\n",
      "Number of faces found 1\n",
      "Number of faces found 1\n",
      "Number of faces found 1\n",
      "Number of faces found 1\n",
      "Number of faces found 1\n",
      "Number of faces found 1\n",
      "Number of faces found 1\n",
      "Number of faces found 1\n",
      "Number of faces found 1\n",
      "Number of faces found 1\n",
      "Number of faces found 1\n",
      "Number of faces found 1\n",
      "Number of faces found 1\n",
      "Number of faces found 1\n",
      "Number of faces found 1\n",
      "Number of faces found 1\n",
      "Number of faces found 1\n",
      "Number of faces found 1\n",
      "Number of faces found 1\n",
      "Number of faces found 1\n",
      "Number of faces found 1\n",
      "Number of faces found 1\n",
      "Number of faces found 1\n",
      "Number of faces found 1\n",
      "Number of faces found 1\n",
      "Number of faces found 1\n",
      "Number of faces found 1\n",
      "Number of faces found 1\n",
      "Number of faces found 1\n",
      "Number of faces found 1\n",
      "Number of faces found 1\n",
      "Number of faces found 1\n",
      "Number of faces found 1\n",
      "Number of faces found 1\n",
      "Number of faces found 1\n",
      "Number of faces found 1\n",
      "Number of faces found 1\n",
      "Number of faces found 1\n",
      "Number of faces found 1\n",
      "Number of faces found 1\n",
      "Number of faces found 1\n",
      "Number of faces found 1\n",
      "Number of faces found 1\n",
      "Number of faces found 1\n"
     ]
    },
    {
     "ename": "KeyboardInterrupt",
     "evalue": "",
     "output_type": "error",
     "traceback": [
      "\u001b[1;31m---------------------------------------------------------------------------\u001b[0m",
      "\u001b[1;31mKeyboardInterrupt\u001b[0m                         Traceback (most recent call last)",
      "\u001b[1;32m<ipython-input-23-d7ec097d3e9e>\u001b[0m in \u001b[0;36m<module>\u001b[1;34m()\u001b[0m\n\u001b[0;32m      3\u001b[0m \u001b[0mscale_factor\u001b[0m \u001b[1;33m=\u001b[0m \u001b[1;36m1.3\u001b[0m\u001b[1;33m\u001b[0m\u001b[0m\n\u001b[0;32m      4\u001b[0m \u001b[1;32mwhile\u001b[0m \u001b[1;36m1\u001b[0m\u001b[1;33m:\u001b[0m\u001b[1;33m\u001b[0m\u001b[0m\n\u001b[1;32m----> 5\u001b[1;33m     \u001b[0mfaces\u001b[0m \u001b[1;33m=\u001b[0m \u001b[0mface_cascade\u001b[0m\u001b[1;33m.\u001b[0m\u001b[0mdetectMultiScale\u001b[0m\u001b[1;33m(\u001b[0m\u001b[0mpic\u001b[0m\u001b[1;33m,\u001b[0m \u001b[0mscale_factor\u001b[0m\u001b[1;33m,\u001b[0m\u001b[1;36m5\u001b[0m\u001b[1;33m)\u001b[0m\u001b[1;33m\u001b[0m\u001b[0m\n\u001b[0m\u001b[0;32m      6\u001b[0m     \u001b[1;32mfor\u001b[0m\u001b[1;33m(\u001b[0m\u001b[0mx\u001b[0m\u001b[1;33m,\u001b[0m\u001b[0my\u001b[0m\u001b[1;33m,\u001b[0m\u001b[0mw\u001b[0m\u001b[1;33m,\u001b[0m\u001b[0mh\u001b[0m\u001b[1;33m)\u001b[0m \u001b[1;32min\u001b[0m \u001b[0mfaces\u001b[0m\u001b[1;33m:\u001b[0m \u001b[1;31m#dimensions of the image x,y,w,h\u001b[0m\u001b[1;33m\u001b[0m\u001b[0m\n\u001b[0;32m      7\u001b[0m         \u001b[0mcv2\u001b[0m\u001b[1;33m.\u001b[0m\u001b[0mrectangle\u001b[0m\u001b[1;33m(\u001b[0m\u001b[0mpic\u001b[0m\u001b[1;33m,\u001b[0m \u001b[1;33m(\u001b[0m\u001b[0mx\u001b[0m\u001b[1;33m,\u001b[0m\u001b[0my\u001b[0m\u001b[1;33m)\u001b[0m\u001b[1;33m,\u001b[0m \u001b[1;33m(\u001b[0m\u001b[0mx\u001b[0m\u001b[1;33m+\u001b[0m\u001b[0mw\u001b[0m\u001b[1;33m,\u001b[0m \u001b[0my\u001b[0m\u001b[1;33m+\u001b[0m\u001b[0mh\u001b[0m\u001b[1;33m)\u001b[0m\u001b[1;33m,\u001b[0m \u001b[1;33m(\u001b[0m\u001b[1;36m255\u001b[0m\u001b[1;33m,\u001b[0m\u001b[1;36m0\u001b[0m\u001b[1;33m,\u001b[0m\u001b[1;36m0\u001b[0m\u001b[1;33m)\u001b[0m\u001b[1;33m,\u001b[0m\u001b[1;36m2\u001b[0m\u001b[1;33m)\u001b[0m\u001b[1;33m\u001b[0m\u001b[0m\n",
      "\u001b[1;31mKeyboardInterrupt\u001b[0m: "
     ]
    }
   ],
   "source": [
    "# detect faces\n",
    "face_cascade = cv2.CascadeClassifier('C:\\\\Users\\\\Vaishnavi Kannan\\\\Anaconda3\\\\Lib\\\\site-packages\\\\cv2\\\\data\\\\haarcascade_frontalface_default.xml')\n",
    "scale_factor = 1.3\n",
    "while 1:\n",
    "    faces = face_cascade.detectMultiScale(pic, scale_factor,5)\n",
    "    for(x,y,w,h) in faces: #dimensions of the image x,y,w,h\n",
    "        cv2.rectangle(pic, (x,y), (x+w, y+h), (255,0,0),2)\n",
    "        font = cv2.FONT_HERSHEY_SIMPLEX\n",
    "        cv2.putText(pic, 'car',(x,y),font,2,(255,255,255),2,cv2.LINE_AA)\n",
    "    print('Number of faces found', format(len(faces)))\n",
    "    cv2.imshow('face',pic)\n",
    "    k=cv2.waitKey(30) & 0xff\n",
    "    if k == 2:\n",
    "        break\n",
    "cv2.destroyAllWindows()"
   ]
  },
  {
   "cell_type": "code",
   "execution_count": 3,
   "metadata": {},
   "outputs": [
    {
     "name": "stderr",
     "output_type": "stream",
     "text": [
      "c:\\users\\vaishnavi kannan\\anaconda3\\lib\\site-packages\\matplotlib\\cbook\\deprecation.py:107: MatplotlibDeprecationWarning: Adding an axes using the same arguments as a previous axes currently reuses the earlier instance.  In a future version, a new instance will always be created and returned.  Meanwhile, this warning can be suppressed, and the future behavior ensured, by passing a unique label to each axes instance.\n",
      "  warnings.warn(message, mplDeprecation, stacklevel=1)\n"
     ]
    },
    {
     "data": {
      "image/png": "[encoded data removed]",
      "text/plain": [
       "<Figure size 432x288 with 1 Axes>"
      ]
     },
     "metadata": {},
     "output_type": "display_data"
    }
   ],
   "source": [
    "import cv2\n",
    "from matplotlib import pyplot as plt\n",
    "import numpy as np\n",
    "img = cv2.imread('C:\\\\Users\\\\Vaishnavi Kannan\\\\Desktop\\\\download.png')\n",
    "kernel = np.ones((5,5), np.float32)/25\n",
    "dst = cv2.blur(img,(5,5))\n",
    "dst = cv2.GaussianBlur(img,(5,5),0)\n",
    "dst = cv2.medianBlur(img,5)\n",
    "plt.subplot(121), plt.imshow(img), plt.title('original')\n",
    "plt.xticks([]), plt.yticks([])\n",
    "plt.subplot(121), plt.imshow(dst), plt.title('original')\n",
    "plt.xticks([]), plt.yticks([])\n",
    "plt.show()"
   ]
  },
  {
   "cell_type": "code",
   "execution_count": 4,
   "metadata": {},
   "outputs": [],
   "source": [
    "# construct the sobel x-axis kernel\n",
    "sobelX = np.array((\n",
    "[-1,0,1],\n",
    "[-2,0,2],\n",
    "[-1,0,1]), dtype=\"int\")\n",
    "\n",
    "sobelY = np.array((\n",
    "[-1,-2,-1],\n",
    "[0,0,0],\n",
    "[1,2,1]), dtype=\"int\")\n",
    "\n",
    "laplacian = np.array((\n",
    "[0,1,0],\n",
    "[1,-4,1],\n",
    "[0,1,0]), dtype=\"int\")\n",
    "\n",
    "dst = cv2.filter2D(img, -1,sobelX) #convolution"
   ]
  },
  {
   "cell_type": "code",
   "execution_count": 6,
   "metadata": {},
   "outputs": [
    {
     "data": {
      "text/plain": [
       "(([], <a list of 0 Text xticklabel objects>),\n",
       " ([], <a list of 0 Text yticklabel objects>))"
      ]
     },
     "execution_count": 6,
     "metadata": {},
     "output_type": "execute_result"
    },
    {
     "data": {
      "image/png": "[encoded data removed]",
      "text/plain": [
       "<Figure size 432x288 with 1 Axes>"
      ]
     },
     "metadata": {},
     "output_type": "display_data"
    }
   ],
   "source": [
    "plt.subplot(121), plt.imshow(dst), plt.title('processed')\n",
    "plt.xticks([]), plt.yticks([])"
   ]
  },
  {
   "cell_type": "code",
   "execution_count": 7,
   "metadata": {},
   "outputs": [
    {
     "ename": "error",
     "evalue": "C:\\projects\\opencv-python\\opencv\\modules\\imgproc\\src\\thresh.cpp:1446: error: (-215) src.type() == CV_8UC1 in function cv::adaptiveThreshold\n",
     "output_type": "error",
     "traceback": [
      "\u001b[1;31m---------------------------------------------------------------------------\u001b[0m",
      "\u001b[1;31merror\u001b[0m                                     Traceback (most recent call last)",
      "\u001b[1;32m<ipython-input-7-290ea09927c0>\u001b[0m in \u001b[0;36m<module>\u001b[1;34m()\u001b[0m\n\u001b[0;32m      1\u001b[0m \u001b[0mret\u001b[0m\u001b[1;33m,\u001b[0m \u001b[0mth1\u001b[0m \u001b[1;33m=\u001b[0m \u001b[0mcv2\u001b[0m\u001b[1;33m.\u001b[0m\u001b[0mthreshold\u001b[0m\u001b[1;33m(\u001b[0m\u001b[0mimg\u001b[0m\u001b[1;33m,\u001b[0m \u001b[1;36m127\u001b[0m\u001b[1;33m,\u001b[0m\u001b[1;36m255\u001b[0m\u001b[1;33m,\u001b[0m\u001b[0mcv2\u001b[0m\u001b[1;33m.\u001b[0m\u001b[0mTHRESH_BINARY\u001b[0m\u001b[1;33m)\u001b[0m\u001b[1;33m\u001b[0m\u001b[0m\n\u001b[1;32m----> 2\u001b[1;33m \u001b[0mth2\u001b[0m \u001b[1;33m=\u001b[0m \u001b[0mcv2\u001b[0m\u001b[1;33m.\u001b[0m\u001b[0madaptiveThreshold\u001b[0m\u001b[1;33m(\u001b[0m\u001b[0mimg\u001b[0m\u001b[1;33m,\u001b[0m \u001b[1;36m255\u001b[0m\u001b[1;33m,\u001b[0m \u001b[0mcv2\u001b[0m\u001b[1;33m.\u001b[0m\u001b[0mADAPTIVE_THRESH_MEAN_C\u001b[0m\u001b[1;33m,\u001b[0m\u001b[0mcv2\u001b[0m\u001b[1;33m.\u001b[0m\u001b[0mTHRESH_BINARY\u001b[0m\u001b[1;33m,\u001b[0m\u001b[1;36m5\u001b[0m\u001b[1;33m,\u001b[0m\u001b[1;36m2\u001b[0m\u001b[1;33m)\u001b[0m\u001b[1;33m\u001b[0m\u001b[0m\n\u001b[0m\u001b[0;32m      3\u001b[0m \u001b[0mth2\u001b[0m \u001b[1;33m=\u001b[0m \u001b[0mcv2\u001b[0m\u001b[1;33m.\u001b[0m\u001b[0madaptiveThreshold\u001b[0m\u001b[1;33m(\u001b[0m\u001b[0mimg\u001b[0m\u001b[1;33m,\u001b[0m \u001b[1;36m255\u001b[0m\u001b[1;33m,\u001b[0m \u001b[0mcv2\u001b[0m\u001b[1;33m.\u001b[0m\u001b[0mADAPTIVE_THRESH_GAUSSIAN_C\u001b[0m\u001b[1;33m,\u001b[0m\u001b[0mcv2\u001b[0m\u001b[1;33m.\u001b[0m\u001b[0mTHRESH_BINARY\u001b[0m\u001b[1;33m,\u001b[0m\u001b[1;36m5\u001b[0m\u001b[1;33m,\u001b[0m\u001b[1;36m2\u001b[0m\u001b[1;33m)\u001b[0m\u001b[1;33m\u001b[0m\u001b[0m\n\u001b[0;32m      4\u001b[0m \u001b[0mret\u001b[0m\u001b[1;33m,\u001b[0m \u001b[0mth4\u001b[0m \u001b[1;33m=\u001b[0m \u001b[0mcv2\u001b[0m\u001b[1;33m.\u001b[0m\u001b[0mthreshold\u001b[0m\u001b[1;33m(\u001b[0m\u001b[0mimg\u001b[0m\u001b[1;33m,\u001b[0m \u001b[1;36m0\u001b[0m\u001b[1;33m,\u001b[0m\u001b[1;36m255\u001b[0m\u001b[1;33m,\u001b[0m\u001b[0mcv2\u001b[0m\u001b[1;33m.\u001b[0m\u001b[0mTHRESH_BINARY\u001b[0m\u001b[1;33m+\u001b[0m\u001b[0mcv2\u001b[0m\u001b[1;33m.\u001b[0m\u001b[0mTHRESH_OTSU\u001b[0m\u001b[1;33m)\u001b[0m\u001b[1;33m\u001b[0m\u001b[0m\n\u001b[0;32m      5\u001b[0m \u001b[0mtitles\u001b[0m \u001b[1;33m=\u001b[0m \u001b[1;33m[\u001b[0m\u001b[1;34m'Global'\u001b[0m\u001b[1;33m,\u001b[0m \u001b[1;34m'Adaptive mean'\u001b[0m\u001b[1;33m,\u001b[0m \u001b[1;34m'Gaussian'\u001b[0m\u001b[1;33m,\u001b[0m \u001b[1;34m'OTSU'\u001b[0m\u001b[1;33m]\u001b[0m\u001b[1;33m\u001b[0m\u001b[0m\n",
      "\u001b[1;31merror\u001b[0m: C:\\projects\\opencv-python\\opencv\\modules\\imgproc\\src\\thresh.cpp:1446: error: (-215) src.type() == CV_8UC1 in function cv::adaptiveThreshold\n"
     ]
    }
   ],
   "source": [
    "ret, th1 = cv2.threshold(img, 127,255,cv2.THRESH_BINARY)\n",
    "th2 = cv2.adaptiveThreshold(img, 255, cv2.ADAPTIVE_THRESH_MEAN_C,cv2.THRESH_BINARY,5,2)\n",
    "th2 = cv2.adaptiveThreshold(img, 255, cv2.ADAPTIVE_THRESH_GAUSSIAN_C,cv2.THRESH_BINARY,5,2)\n",
    "ret, th4 = cv2.threshold(img, 0,255,cv2.THRESH_BINARY+cv2.THRESH_OTSU)\n",
    "titles = ['Global', 'Adaptive mean', 'Gaussian', 'OTSU']\n",
    "images=[th1,th2,th3,th4]\n",
    "for i in range(4):\n",
    "    plt.subplot(2,2,i+1), plt.imshow(images[i],'gray')\n",
    "    plt.title(titles[i])\n",
    "    plt.xticks([]), plt.yticks([])\n",
    "plt.show()"
   ]
  },
  {
   "cell_type": "code",
   "execution_count": 8,
   "metadata": {},
   "outputs": [
    {
     "ename": "NameError",
     "evalue": "name 'cdf_normaized' is not defined",
     "output_type": "error",
     "traceback": [
      "\u001b[1;31m---------------------------------------------------------------------------\u001b[0m",
      "\u001b[1;31mNameError\u001b[0m                                 Traceback (most recent call last)",
      "\u001b[1;32m<ipython-input-8-4f417b618f4b>\u001b[0m in \u001b[0;36m<module>\u001b[1;34m()\u001b[0m\n\u001b[0;32m      6\u001b[0m \u001b[0mcdf_normalized\u001b[0m \u001b[1;33m=\u001b[0m \u001b[0mcdf\u001b[0m \u001b[1;33m=\u001b[0m \u001b[0mhist\u001b[0m\u001b[1;33m.\u001b[0m\u001b[0mmax\u001b[0m\u001b[1;33m(\u001b[0m\u001b[1;33m)\u001b[0m\u001b[1;33m/\u001b[0m\u001b[0mcdf\u001b[0m\u001b[1;33m.\u001b[0m\u001b[0mmax\u001b[0m\u001b[1;33m(\u001b[0m\u001b[1;33m)\u001b[0m\u001b[1;33m\u001b[0m\u001b[0m\n\u001b[0;32m      7\u001b[0m \u001b[1;33m\u001b[0m\u001b[0m\n\u001b[1;32m----> 8\u001b[1;33m \u001b[0mplt\u001b[0m\u001b[1;33m.\u001b[0m\u001b[0mplot\u001b[0m\u001b[1;33m(\u001b[0m\u001b[0mcdf_normaized\u001b[0m\u001b[1;33m,\u001b[0m \u001b[0mcolor\u001b[0m\u001b[1;33m=\u001b[0m\u001b[1;34m\"b\"\u001b[0m\u001b[1;33m)\u001b[0m\u001b[1;33m\u001b[0m\u001b[0m\n\u001b[0m\u001b[0;32m      9\u001b[0m \u001b[0mplt\u001b[0m\u001b[1;33m.\u001b[0m\u001b[0mhist\u001b[0m\u001b[1;33m(\u001b[0m\u001b[0mimg\u001b[0m\u001b[1;33m.\u001b[0m\u001b[0mflatten\u001b[0m\u001b[1;33m(\u001b[0m\u001b[1;33m)\u001b[0m\u001b[1;33m,\u001b[0m\u001b[1;36m256\u001b[0m\u001b[1;33m,\u001b[0m\u001b[1;33m[\u001b[0m\u001b[1;36m0\u001b[0m\u001b[1;33m,\u001b[0m\u001b[1;36m256\u001b[0m\u001b[1;33m]\u001b[0m\u001b[1;33m,\u001b[0m\u001b[0mcolor\u001b[0m\u001b[1;33m=\u001b[0m\u001b[1;34m\"r\"\u001b[0m\u001b[1;33m)\u001b[0m\u001b[1;33m\u001b[0m\u001b[0m\n\u001b[0;32m     10\u001b[0m \u001b[0mplt\u001b[0m\u001b[1;33m.\u001b[0m\u001b[0mxlim\u001b[0m\u001b[1;33m(\u001b[0m\u001b[1;33m[\u001b[0m\u001b[1;36m0\u001b[0m\u001b[1;33m,\u001b[0m\u001b[1;36m256\u001b[0m\u001b[1;33m]\u001b[0m\u001b[1;33m)\u001b[0m\u001b[1;33m\u001b[0m\u001b[0m\n",
      "\u001b[1;31mNameError\u001b[0m: name 'cdf_normaized' is not defined"
     ]
    },
    {
     "data": {
      "image/png": "[encoded data removed]",
      "text/plain": [
       "<Figure size 432x288 with 1 Axes>"
      ]
     },
     "metadata": {},
     "output_type": "display_data"
    }
   ],
   "source": [
    "hist,bins = np.histogram(img.flatten(),256,[0,256])\n",
    "plt.plot(hist,color='b') # intensity vs no of pixels with that intensity\n",
    "plt.hist(img.flatten(),256,[0,256],color=\"r\")\n",
    "\n",
    "cdf = hist.cumsum()\n",
    "cdf_normalized = cdf = hist.max()/cdf.max()\n",
    "\n",
    "plt.plot(cdf_normaized, color=\"b\")\n",
    "plt.hist(img.flatten(),256,[0,256],color=\"r\")\n",
    "plt.xlim([0,256])\n",
    "plt.legend(('cdf','histogram'), loc = 'upper left')\n",
    "plt.show()\n",
    "\n",
    "equ = cv2.equalizeHist(img)\n",
    "\n"
   ]
  },
  {
   "cell_type": "code",
   "execution_count": null,
   "metadata": {},
   "outputs": [],
   "source": [
    "# Image sharpening\n",
    "kernel = np.array([[-1,-1,-1], [-1,9,1], [-1,-1,-1]])\n",
    "img_sharpened = cv2.filter2D(img, -1, kernel)\n",
    "cv2.imwrite(\"sharpened.jpg\", img_sharpened)\n",
    "\n",
    "edges = cv2.Canny(img, 100, 200)\n",
    "plt.subplot(121), plt.imshow(img, cmap = 'gray')\n",
    "plt.title('Original Image'), plt.xticks([]), plt.yticks([])\n",
    "plt.subplot(122), plt.imshow(edges, cmap='gray')\n",
    "plt.title('Edge Image'), plt.xticks([]), plt.yticks([])\n",
    "plt.show()"
   ]
  },
  {
   "cell_type": "code",
   "execution_count": 9,
   "metadata": {
    "scrolled": true
   },
   "outputs": [
    {
     "name": "stderr",
     "output_type": "stream",
     "text": [
      "c:\\users\\vaishnavi kannan\\anaconda3\\lib\\site-packages\\matplotlib\\cbook\\deprecation.py:107: MatplotlibDeprecationWarning: Adding an axes using the same arguments as a previous axes currently reuses the earlier instance.  In a future version, a new instance will always be created and returned.  Meanwhile, this warning can be suppressed, and the future behavior ensured, by passing a unique label to each axes instance.\n",
      "  warnings.warn(message, mplDeprecation, stacklevel=1)\n"
     ]
    },
    {
     "data": {
      "image/png": "[encoded data removed]",
      "text/plain": [
       "<Figure size 432x288 with 1 Axes>"
      ]
     },
     "metadata": {},
     "output_type": "display_data"
    }
   ],
   "source": [
    "# Erosion\n",
    "n = 6\n",
    "kernel = np.ones((n,n), np.uint8)\n",
    "erosion = cv2.erode(img, kernel, iterations=1)\n",
    "plt.subplot(121), plt.imshow(img), plt.title('Original')\n",
    "plt.xticks([]), plt.yticks([])\n",
    "plt.subplot(121), plt.imshow(erosion), plt.title('Original')\n",
    "plt.xticks([]), plt.yticks([])\n",
    "plt.show()"
   ]
  },
  {
   "cell_type": "code",
   "execution_count": null,
   "metadata": {},
   "outputs": [],
   "source": [
    "# dilation\n",
    "dilation = cv2.dilate(img, kernel, iterations = 1)\n",
    "\n",
    "# morphology expulsion\n",
    "opening = cv2.morphologyEx(img, cv2.MORPH_OPEN, kernel) # or CV2.MORPH_CLOSE\n"
   ]
  },
  {
   "cell_type": "code",
   "execution_count": 3,
   "metadata": {},
   "outputs": [],
   "source": [
    "# Corners detection\n",
    "import cv2\n",
    "import numpy as np\n",
    "img = cv2.imread(\"C:\\\\Users\\\\Vaishnavi Kannan\\\\Desktop\\\\download.png\")\n",
    "gray = cv2.cvtColor(img, cv2.COLOR_BGR2GRAY)\n",
    "gray = np.float32(gray)\n",
    "\n",
    "# Parameters for Harris --\n",
    "# blocksize - neighborhood size to be considered \n",
    "# ksize - Aperture para of sobel derivative used\n",
    "# k - harris detector free para in the equation\n",
    "dst = cv2.cornerHarris(gray,2,3,0.04)\n",
    "dst = cv2.dilate(dst,None)\n",
    "img[dst>dst.max()/4]=[0,0,255] # change the 4 in the Dr to 8 or 12 to see more points\n",
    "cv2.imshow('dst', img)\n",
    "if cv2.waitKey(0) & 0xff ==27:\n",
    "    cv2.destroyAllWindows()"
   ]
  },
  {
   "cell_type": "code",
   "execution_count": 4,
   "metadata": {},
   "outputs": [],
   "source": [
    "# corner detection continued\n",
    "corners = cv2.goodFeaturesToTrack(gray,25,0.01,10)\n",
    "corners = np.int0(corners)\n",
    "\n",
    "for i in corners:\n",
    "    x,y = i.ravel()\n",
    "    cv2.circle(img,(x,y),3,(0,0,255),3)\n",
    "    \n",
    "cv2.imshow('Shi-Thomasi', img)\n",
    "if cv2.waitKey(0) & 0xff ==27:\n",
    "    cv2.destroyAllWindows()"
   ]
  },
  {
   "cell_type": "code",
   "execution_count": 5,
   "metadata": {},
   "outputs": [],
   "source": [
    "# keypoint detection\n",
    "\n",
    "gray = cv2.cvtColor(img, cv2.COLOR_BGR2GRAY)\n",
    "sift = cv2.xfeatures2d.SIFT_create()\n",
    "kp = sift.detect(gray,None)\n",
    "\n",
    "img = cv2.drawKeypoints(gray,kp,img)\n",
    "\n",
    "cv2.imshow('key points', img)\n",
    "if cv2.waitKey(0) & 0xff ==27:\n",
    "    cv2.destroyAllWindows()\n"
   ]
  },
  {
   "cell_type": "code",
   "execution_count": null,
   "metadata": {},
   "outputs": [],
   "source": []
  }
 ],
 "metadata": {
  "kernelspec": {
   "display_name": "Python 3",
   "language": "python",
   "name": "python3"
  },
  "language_info": {
   "codemirror_mode": {
    "name": "ipython",
    "version": 3
   },
   "file_extension": ".py",
   "mimetype": "text/x-python",
   "name": "python",
   "nbconvert_exporter": "python",
   "pygments_lexer": "ipython3",
   "version": "3.6.5"
  }
 },
 "nbformat": 4,
 "nbformat_minor": 2
}
